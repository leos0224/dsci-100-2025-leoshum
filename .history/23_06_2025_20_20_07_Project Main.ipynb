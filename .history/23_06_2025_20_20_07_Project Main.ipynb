{
 "cells": [
  {
   "cell_type": "code",
   "execution_count": null,
   "id": "5bf5c1cb-99cd-4ed9-8759-5b86ce5c0dd7",
   "metadata": {},
   "outputs": [],
   "source": [
    "library(tidyverse)\n",
    "library(tidymodels)"
   ]
  },
  {
   "cell_type": "code",
   "execution_count": null,
   "id": "79e6ee0d-32b3-4dfc-8547-2e8515021879",
   "metadata": {},
   "outputs": [],
   "source": [
    "players <- read_csv(\"data/players.csv\")\n",
    "sessions <- read_csv(\"data/sessions.csv\") |>\n",
    "    mutate(start_time = dmy_hm(start_time), end_time = dmy_hm(end_time), session_length_minutes = as.numeric(end_time - start_time)) |>\n",
    "    select(-original_start_time, -original_end_time)\n",
    "\n",
    "head(players)\n",
    "head(sessions)"
   ]
  },
  {
   "cell_type": "code",
   "execution_count": null,
   "id": "f601fd68-5180-4015-ae4b-22d1d445c0fc",
   "metadata": {},
   "outputs": [],
   "source": [
    "sessions_summary <- sessions |>\n",
    "    group_by(hashedEmail) |>\n",
    "    summarise(sessions_num = n(), \n",
    "              average_session_length = mean(session_length_minutes), \n",
    "              total_play_length = sum(session_length_minutes))\n",
    "\n",
    "head(sessions_summary)"
   ]
  },
  {
   "cell_type": "code",
   "execution_count": null,
   "id": "136659c4-9ac2-4781-91ba-99f910bcdfc6",
   "metadata": {},
   "outputs": [],
   "source": [
    "players_sessions <- merge(players, sessions_summary, by = \"hashedEmail\") |>\n",
    "    filter(gender %in% c(\"Male\", \"Female\", \"Non-binary\", \"Prefer not to say\")) |>\n",
    "    mutate(subscribe = as.factor(subscribe), \n",
    "           gender = as.factor(gender),\n",
    "           experience = as.factor(experience),\n",
    "           age = Age) |>\n",
    "    select(-played_hours, -Age)\n",
    "\n",
    "           \n",
    "head(players_sessions)"
   ]
  },
  {
   "cell_type": "code",
   "execution_count": null,
   "id": "96f7495a-9009-4026-9589-c994d337a75c",
   "metadata": {},
   "outputs": [],
   "source": [
    "quick_point <- players_sessions |>\n",
    "    ggplot(aes(x = sessions_num, y = total_play_length)) +\n",
    "    geom_point(alpha = 0.7) +\n",
    "    labs(\n",
    "    title = \"Total Playtime vs. Number of Sessions\",\n",
    "    x = \"Number of Sessions\",\n",
    "    y = \"Total Playtime (minutes)\") +\n",
    "    scale_x_log10(labels = label_comma()) +\n",
    "    scale_y_log10(labels = label_comma()) +\n",
    "    theme(text = element_text(size = 16))\n",
    "\n",
    "quick_point"
   ]
  },
  {
   "cell_type": "code",
   "execution_count": null,
   "id": "3afe2b10-08a3-4ab4-91a6-d9cfe4b849ad",
   "metadata": {},
   "outputs": [],
   "source": [
    "set.seed(0)\n",
    "data_split <- initial_split(players_sessions, prop = 0.75, strata = total_play_length)\n",
    "training <- training(data_split)\n",
    "testing  <- testing(data_split)\n",
    "\n",
    "lm_spec <- linear_reg() |>\n",
    "    set_engine(\"lm\") |>\n",
    "    set_mode(\"regression\")\n",
    "\n",
    "lm_recipe <- recipe(total_play_length ~ sessions_num + average_session_length + age + experience + subscribe + gender, data = training)\n",
    "\n",
    "lm_fit <- workflow() |>\n",
    "    add_recipe(lm_recipe) |>\n",
    "    add_model(lm_spec) |>\n",
    "    fit(data = training)\n",
    "lm_fit"
   ]
  },
  {
   "cell_type": "code",
   "execution_count": null,
   "id": "70b4b3b3-73bd-413d-8588-a430494e610a",
   "metadata": {},
   "outputs": [],
   "source": [
    "lm_rmse <- lm_fit |>\n",
    "        predict(training) |>\n",
    "        bind_cols(training) |>\n",
    "        metrics(truth = total_play_length, estimate = .pred) |>\n",
    "        filter(.metric == \"rmse\") |>\n",
    "        select(.estimate) |>\n",
    "        pull()\n",
    "lm_rmse"
   ]
  },
  {
   "cell_type": "code",
   "execution_count": null,
   "id": "8be0d160-c827-4585-8165-785005492ce9",
   "metadata": {},
   "outputs": [],
   "source": [
    "lm_rmspe <- lm_fit |>\n",
    "        predict(testing) |>\n",
    "        bind_cols(testing) |>\n",
    "        metrics(truth = total_play_length, estimate = .pred) |>\n",
    "        filter(.metric == \"rmse\") |>\n",
    "        select(.estimate) |>\n",
    "        pull()\n",
    "lm_rmspe"
   ]
  },
  {
   "cell_type": "code",
   "execution_count": null,
   "id": "026e3043-2a57-4411-b3a4-3856c41cee63",
   "metadata": {},
   "outputs": [],
   "source": [
    "knn_spec <- nearest_neighbor(weight_func = \"rectangular\", neighbors = tune()) |>\n",
    "    set_engine(\"kknn\") |>\n",
    "    set_mode(\"regression\")\n",
    "\n",
    "knn_recipe <- recipe(total_play_length ~ sessions_num + average_session_length + age + experience + subscribe + gender, data = training) |>\n",
    "    step_scale(all_numeric_predictors()) |> \n",
    "    step_center(all_numeric_predictors())\n",
    "\n",
    "vfold <- vfold_cv(training, v = 5, strata = total_play_length)\n",
    "\n",
    "gridvals <- tibble(neighbors = seq(1, 20))\n",
    "\n",
    "knn_multi <- workflow() |>\n",
    "    add_recipe(knn_recipe) |>\n",
    "    add_model(knn_spec) |>\n",
    "    tune_grid(vfold, grid = gridvals) |>\n",
    "    collect_metrics() |>\n",
    "    filter(.metric == \"rmse\") |>\n",
    "    filter(mean == min(mean))\n",
    "\n",
    "best_k <- knn_multi |>\n",
    "    pull(neighbors)\n",
    "best_k"
   ]
  },
  {
   "cell_type": "code",
   "execution_count": null,
   "id": "ca3aed3a-bb7f-4a81-a06b-94f7c8f3d1fa",
   "metadata": {},
   "outputs": [],
   "source": [
    "knn_spec_new <- nearest_neighbor(weight_func = \"rectangular\", neighbors = best_k) |>\n",
    "  set_engine(\"kknn\") |>\n",
    "  set_mode(\"regression\")\n",
    "\n",
    "knn_mult_fit <- workflow() |>\n",
    "  add_recipe(sacr_recipe) |>\n",
    "  add_model(sacr_spec) |>\n",
    "  fit(data = sacramento_train)"
   ]
  }
 ],
 "metadata": {
  "kernelspec": {
   "display_name": "R",
   "language": "R",
   "name": "ir"
  },
  "language_info": {
   "codemirror_mode": "r",
   "file_extension": ".r",
   "mimetype": "text/x-r-source",
   "name": "R",
   "pygments_lexer": "r",
   "version": "4.3.3"
  }
 },
 "nbformat": 4,
 "nbformat_minor": 5
}
