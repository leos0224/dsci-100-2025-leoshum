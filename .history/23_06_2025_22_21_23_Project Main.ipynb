{
 "cells": [
  {
   "cell_type": "markdown",
   "id": "50efa22f-5ae5-4121-9056-ff741cfce38c",
   "metadata": {},
   "source": [
    "**Title:**<br> \n",
    "Predicting Total Play Length from Player and Session Characteristics using Regression"
   ]
  },
  {
   "cell_type": "markdown",
   "id": "4a1fbcae-6df5-4e98-86ff-db5b96975e68",
   "metadata": {},
   "source": [
    "**Introduction:**<br>\n",
    "Ever wonder what kind of data could be gathered from playing video games? This was done by Frank Wood from UBC, who led a research group with the department of computer science to gather data about how video games are played. With this, they had set up a Minecraft server to record player actions as data, of which could be used in a variety of different scenarios by individuals from all sorts of professions and industries. In particular, some individuals in the gaming industry could make use of this particular type of data. Especially if they want to improve and optimize playing time on their games, one such question they may ask is such that:<br>\n",
    "\n",
    "Can we predict a player's total play time based off of their demographic and individual session characteristics? <br>\n",
    "\n",
    "To answer this, we must first take a look at the datasets themselves. There are two datasets that we have analyzed for this project, \"players.csv\" and \"sessions.csv\". In the players dataset, there are a total of 196 unique observations, while the sessions dataset has 1535 observations recorded. The reason for this discrepancyis that each unique player can have multiple different sessions, which are recorded in the sessions dataset. <br>\n",
    "\n",
    "The players dataset has 7 different variables:<br>\n",
    "- experience (their level of proficiency at Minecraft)\n",
    "- subscribe (whether they are subscribed to the newsletter)\n",
    "- hashedEmail (their email connected to their Minecraft account)\n",
    "- played_hours (The total amount of hours they have spent on the game)\n",
    "- name (the player's name)\n",
    "- gender (the player's gender)\n",
    "- Age (how old the player is)\n",
    "<br>\n",
    "\n",
    "The sessions dataset has 5 different variables:<br>\n",
    "- hashedEmail (the same email connected to their account)\n",
    "- start_time (readable starting time)\n",
    "- end_time (readable ending time)\n",
    "- original_start_time (starting time)\n",
    "- original_end_time (ending time)\n",
    "<br>\n",
    "\n",
    "In this project, we have chosen 5 variables to predict the total amount of play time for a player. This includes:<br>\n",
    "- The total number sessions played (minutes)\n",
    "- The average length of each session (minutes)\n",
    "- Age\n",
    "- Experience\n",
    "- Subscription\n",
    "<br>\n",
    "\n",
    "As you can see, two of the variables are related to session characteristics, while the other three are related to the individual player's demographic. The experience variable categorizes players based on how familiar they are with Minecraft, and goes from beginner, amateur, regular, veteran, to pro. The subscription variable can either be true or false, and represents whether they are subscribed to the newsletter."
   ]
  },
  {
   "cell_type": "markdown",
   "id": "24099a47-dcda-4feb-b33e-836cbe6368c2",
   "metadata": {},
   "source": [
    "**Methods & Results:**<br>\n",
    "First things first, we need to first load the libraries necessary for this project. In this case, it is tidyverse and tidymodels."
   ]
  },
  {
   "cell_type": "code",
   "execution_count": null,
   "id": "5bf5c1cb-99cd-4ed9-8759-5b86ce5c0dd7",
   "metadata": {},
   "outputs": [],
   "source": [
    "library(tidyverse)\n",
    "library(tidymodels)"
   ]
  },
  {
   "cell_type": "markdown",
   "id": "b952d333-5534-4f8d-bd1b-317594bfecef",
   "metadata": {},
   "source": [
    "Next, we read the datasets from their csv files. We used relative file paths here from the \"data\" folder. <br><br>\n",
    "Here we also wrangled the sessions data frame a little bit too, calculating the session times from the start and end times, while also getting rid of the original start and end times.<br><br>\n",
    "Then we displayed a little bit of both the players and sessions data frames to see what we are working with here."
   ]
  },
  {
   "cell_type": "code",
   "execution_count": null,
   "id": "79e6ee0d-32b3-4dfc-8547-2e8515021879",
   "metadata": {},
   "outputs": [],
   "source": [
    "players <- read_csv(\"data/players.csv\")\n",
    "sessions <- read_csv(\"data/sessions.csv\") |>\n",
    "    mutate(start_time = dmy_hm(start_time), end_time = dmy_hm(end_time), session_length_minutes = as.numeric(end_time - start_time)) |>\n",
    "    select(-original_start_time, -original_end_time)\n",
    "\n",
    "head(players)\n",
    "head(sessions)"
   ]
  },
  {
   "cell_type": "markdown",
   "id": "822f6968-0976-4ffa-a916-1d2b8d1cb8f5",
   "metadata": {},
   "source": [
    "For the next step, we performed further wrangling to create the necessary variables for regression later on.<br><br>\n",
    "We group the hashed emails together so we have the sessions from each player together, then counted them to find the total number of sessions (sessions_num). Along with this, we found the average session length by calculating the average all the session lengths (average_session_length). Lastly, we calculated the total time played by adding together all the sessions lengths (total_play_length).<br><br>\n",
    "We displayed this data frame to see the edits made.\n"
   ]
  },
  {
   "cell_type": "code",
   "execution_count": null,
   "id": "065215ca-0c5e-4a78-bf2f-032ef897cdfe",
   "metadata": {},
   "outputs": [],
   "source": [
    "sessions_summary <- sessions |>\n",
    "    group_by(hashedEmail) |>\n",
    "    summarise(sessions_num = n(), \n",
    "              average_session_length = mean(session_length_minutes), \n",
    "              total_play_length = sum(session_length_minutes))\n",
    "\n",
    "head(sessions_summary)"
   ]
  },
  {
   "cell_type": "markdown",
   "id": "0371e92b-a30e-435e-8c56-ffae9bbe00c1",
   "metadata": {},
   "source": [
    "Here, we used the \"merge\" function to combine the players and summarised sessions datasets together, matching the observations with their hashed emails.<br><br>\n",
    "Next, we convered the subscribe and experience variables to factors, while also getting rid of all the unneccesary variables that won't be used for analyse. This leaves us with experience, subscribe, session numbers, average session length, total play time, and age. <br><br>\n",
    "The reason we got rid of the old total play time was because it was measured in hours, while also being slightly inaccurate."
   ]
  },
  {
   "cell_type": "code",
   "execution_count": null,
   "id": "136659c4-9ac2-4781-91ba-99f910bcdfc6",
   "metadata": {},
   "outputs": [],
   "source": [
    "players_sessions <- merge(players, sessions_summary, by = \"hashedEmail\") |>\n",
    "    mutate(subscribe = as.factor(subscribe), \n",
    "           experience = as.factor(experience),\n",
    "           age = Age) |>\n",
    "    select(-played_hours, -Age, -gender, -hashedEmail, -name)\n",
    "\n",
    "           \n",
    "head(players_sessions)"
   ]
  },
  {
   "cell_type": "markdown",
   "id": "33b41a4a-988b-41bf-bd29-81baaf501bbf",
   "metadata": {},
   "source": [
    "The next thing we did was plot scatter plot visualizations of total play time versus the variables that are numerical. <br><br>\n",
    "Here, we can see that there are linear relationships between total play time with the average session length and number of sessions variables. On the otherhand, there does not appear to be any sort of relationship with the age of the players."
   ]
  },
  {
   "cell_type": "code",
   "execution_count": null,
   "id": "96f7495a-9009-4026-9589-c994d337a75c",
   "metadata": {},
   "outputs": [],
   "source": [
    "options(repr.plot.width = 9, repr.plot.height = 6)\n",
    "\n",
    "\n",
    "num_sessions_plot <- players_sessions |>\n",
    "    ggplot(aes(x = sessions_num, y = total_play_length)) +\n",
    "    geom_point(alpha = 0.7) +\n",
    "    labs(\n",
    "    title = \"Figure 1. Total Playtime vs. Number of Sessions\",\n",
    "    x = \"Number of Sessions\",\n",
    "    y = \"Total Playtime (minutes)\") +\n",
    "    scale_x_log10(labels = label_comma()) +\n",
    "    scale_y_log10(labels = label_comma()) +\n",
    "    theme(text = element_text(size = 16))\n",
    "\n",
    "average_sessions_length_plot <- players_sessions |>\n",
    "    ggplot(aes(x = average_session_length, y = total_play_length)) +\n",
    "    geom_point(alpha = 0.7) +\n",
    "    labs(\n",
    "    title = \"Figure 2. Total Playtime vs. Average Session Length\",\n",
    "    x = \"Average Session Length (minutes)\",\n",
    "    y = \"Total Playtime (minutes)\") +\n",
    "    scale_x_log10(labels = label_comma()) +\n",
    "    scale_y_log10(labels = label_comma()) +\n",
    "    theme(text = element_text(size = 16))\n",
    "\n",
    "age_plot <- players_sessions |>\n",
    "    ggplot(aes(x = age, y = total_play_length)) +\n",
    "    geom_point(alpha = 0.7) +\n",
    "    labs(\n",
    "    title = \"Figure 3. Total Playtime vs. Age of Players\",\n",
    "    x = \"Player Age\",\n",
    "    y = \"Total Playtime (minutes)\") +\n",
    "    scale_x_log10(labels = label_comma()) +\n",
    "    scale_y_log10(labels = label_comma()) +\n",
    "    theme(text = element_text(size = 16))\n",
    "\n",
    "num_sessions_plot\n",
    "average_sessions_length_plot\n",
    "age_plot"
   ]
  },
  {
   "cell_type": "markdown",
   "id": "3d41a18f-cd50-49fd-b915-03230408555e",
   "metadata": {},
   "source": [
    "Now it is time to test out the linear regression model. This regression model in particular is useful for the equation that it generates, which is extremely helpful in showing the impact each variable has on the total play time. Additionally, this model can be used to predict values for variables outside of the range of data the model was trained on. Though, one weakness of this model is that it doesn't work too well with non-linear relationships. <br><br>\n",
    "To execute this, we first split the dataset into a training and testing portion with 75% allocated to training and 25% allocated to testing. We then made the model and recipe that includes the 5 variables for this analysis. We then fitted the recipe and model and trained it on the training portion of the dataset.<br><br>\n",
    "The \"coefficients\" portion of the output, we can see the values for the equation of the line. We will touch upon this later in discussion."
   ]
  },
  {
   "cell_type": "code",
   "execution_count": null,
   "id": "3afe2b10-08a3-4ab4-91a6-d9cfe4b849ad",
   "metadata": {},
   "outputs": [],
   "source": [
    "set.seed(0)\n",
    "data_split <- initial_split(players_sessions, prop = 0.75, strata = total_play_length)\n",
    "training <- training(data_split)\n",
    "testing  <- testing(data_split)\n",
    "\n",
    "lm_spec <- linear_reg() |>\n",
    "    set_engine(\"lm\") |>\n",
    "    set_mode(\"regression\")\n",
    "\n",
    "lm_recipe <- recipe(total_play_length ~ sessions_num + average_session_length + age + experience + subscribe, data = training)\n",
    "\n",
    "lm_fit <- workflow() |>\n",
    "    add_recipe(lm_recipe) |>\n",
    "    add_model(lm_spec) |>\n",
    "    fit(data = training)\n",
    "lm_fit"
   ]
  },
  {
   "cell_type": "markdown",
   "id": "dae37df1-c938-46d1-b092-e49ef59099d6",
   "metadata": {},
   "source": [
    "Here, we calculate the RMSE value of the model using the training data. The value of which is 1179.7, which means that the result predicted is on average 1179.7 minutes different from the real number."
   ]
  },
  {
   "cell_type": "code",
   "execution_count": null,
   "id": "70b4b3b3-73bd-413d-8588-a430494e610a",
   "metadata": {},
   "outputs": [],
   "source": [
    "lm_rmse <- lm_fit |>\n",
    "        predict(training) |>\n",
    "        bind_cols(training) |>\n",
    "        metrics(truth = total_play_length, estimate = .pred) |>\n",
    "        filter(.metric == \"rmse\") |>\n",
    "        select(.estimate) |>\n",
    "        pull()\n",
    "lm_rmse"
   ]
  },
  {
   "cell_type": "markdown",
   "id": "f7538c8f-c043-434d-a522-d2920a00944a",
   "metadata": {},
   "source": [
    "Here, we calculate the RMSPE value of the model off the testing data. We end up with a value of 519.9, which is significantly better than the RMSE. This means the predicted result was on average 519.9 minutes off the actual number."
   ]
  },
  {
   "cell_type": "code",
   "execution_count": null,
   "id": "8be0d160-c827-4585-8165-785005492ce9",
   "metadata": {},
   "outputs": [],
   "source": [
    "lm_rmspe <- lm_fit |>\n",
    "        predict(testing) |>\n",
    "        bind_cols(testing) |>\n",
    "        metrics(truth = total_play_length, estimate = .pred) |>\n",
    "        filter(.metric == \"rmse\") |>\n",
    "        select(.estimate) |>\n",
    "        pull()\n",
    "lm_rmspe"
   ]
  },
  {
   "cell_type": "markdown",
   "id": "6cc43e4e-9da2-49ec-b4ba-31d9b7f3926b",
   "metadata": {},
   "source": [
    "Even though we already completed a linear regression model, we decided to test out the K nearest neighbors model on this dataset too. One advantage of using KNN regression is that it is good for non-linear relationships. Though this model is particularly weak when dealing with large amounts of data, it shouldn't be a problem here as it the dataset we are using is not too large. Other weaknesses for this regression model is that it isn't reliable with predicting values outside the training range, and that it doesn't work well with large numbers of predictors (we have 5 here). <br><br>\n",
    "We also decided on using cross validation here, which might not have been the best decision due to the dataset being so small. <br><br>\n",
    "The resulting best K value ended up being 1, which may not be optimal due to overfitting. Anyways this model was done just to compare it to the linear regression model so the results from it are not too significant."
   ]
  },
  {
   "cell_type": "code",
   "execution_count": null,
   "id": "026e3043-2a57-4411-b3a4-3856c41cee63",
   "metadata": {},
   "outputs": [],
   "source": [
    "knn_spec <- nearest_neighbor(weight_func = \"rectangular\", neighbors = tune()) |>\n",
    "    set_engine(\"kknn\") |>\n",
    "    set_mode(\"regression\")\n",
    "\n",
    "knn_recipe <- recipe(total_play_length ~ sessions_num + average_session_length + age + experience + subscribe, data = training)\n",
    "\n",
    "vfold <- vfold_cv(training, v = 5, strata = total_play_length)\n",
    "\n",
    "gridvals <- tibble(neighbors = seq(1, 25))\n",
    "\n",
    "knn_multi <- workflow() |>\n",
    "    add_recipe(knn_recipe) |>\n",
    "    add_model(knn_spec) |>\n",
    "    tune_grid(vfold, grid = gridvals) |>\n",
    "    collect_metrics() |>\n",
    "    filter(.metric == \"rmse\") |>\n",
    "    filter(mean == min(mean))\n",
    "\n",
    "best_k <- knn_multi |>\n",
    "    pull(neighbors)\n",
    "best_k"
   ]
  },
  {
   "cell_type": "markdown",
   "id": "abe363ef-8d42-40e5-8852-20d5c3b0b2cf",
   "metadata": {},
   "source": [
    "Here, we apply the fitted model to the testing data to find the RMSPE, which turns out to be 560.5. This is decent, but not as good as the RMPSE from the linear regression model."
   ]
  },
  {
   "cell_type": "code",
   "execution_count": null,
   "id": "ca3aed3a-bb7f-4a81-a06b-94f7c8f3d1fa",
   "metadata": {},
   "outputs": [],
   "source": [
    "knn_spec_new <- nearest_neighbor(weight_func = \"rectangular\", neighbors = best_k) |>\n",
    "  set_engine(\"kknn\") |>\n",
    "  set_mode(\"regression\")\n",
    "\n",
    "knn_multi_fit <- workflow() |>\n",
    "  add_recipe(knn_recipe) |>\n",
    "  add_model(knn_spec_new) |>\n",
    "  fit(data = training)\n",
    "\n",
    "knn_multi_preds <- knn_multi_fit |>\n",
    "  predict(testing) |>\n",
    "  bind_cols(testing)\n",
    "\n",
    "knn_rmspe <- metrics(knn_multi_preds, truth = total_play_length, estimate = .pred) |>\n",
    "                     filter(.metric == 'rmse')\n",
    "\n",
    "knn_rmspe"
   ]
  },
  {
   "cell_type": "markdown",
   "id": "fb4b9a34-e8b6-409a-a183-cf6519b7c79c",
   "metadata": {},
   "source": [
    "Regrettably, the results of our models' analyses could not be displayed with visualizations due us using 5 different predictors. Unless we tried using a 5D plot, it wouldn't work out too well. As such, the only results we have here are the RMSPE values of each regression model, along with the coefficients for the equation of our linear regression model, which are the following:\n",
    "- Intercept = -260.63\n",
    "- Number of sessions = 39.08\n",
    "- Average session length (minutes) = 13.41\n",
    "- Age = -17.34\n",
    "- Experience (beginner) = 94.50\n",
    "- Experience (regular) = 910.95\n",
    "- Experience (veteran) = 236.87\n",
    "- Experience (pro) = 37.31\n",
    "- subscribe (true) = 41.47\n",
    "<br>\n",
    "\n",
    "One question that may be asked when first seeing this data is where the amateur option for experience and true option for subscribe are. The reason they are not present is because they are the baseline category. To put it simply, the coefficients for the numerical variables will always be present in the equation for total time played. On the otherhand, the categorical variables will only be added if you meet the criteria for the coefficient. Otherwise you wouldn't need to add anything else in the case that you are an amateur player who isn't subscribed.<br><br>\n",
    "The equation would look like this: <br>\n",
    "Total time played = -260.63 + 39.08(number of sessions) + 13.41(average session length) - 17.34(age) + (experie"
   ]
  },
  {
   "cell_type": "markdown",
   "id": "ef79a3e8-312e-42c5-b24c-7f602edfeebf",
   "metadata": {},
   "source": [
    "**Results:**"
   ]
  },
  {
   "cell_type": "code",
   "execution_count": null,
   "id": "ef2fde85-29a8-460e-a4d9-6a5555a16861",
   "metadata": {},
   "outputs": [],
   "source": []
  }
 ],
 "metadata": {
  "kernelspec": {
   "display_name": "R",
   "language": "R",
   "name": "ir"
  },
  "language_info": {
   "codemirror_mode": "r",
   "file_extension": ".r",
   "mimetype": "text/x-r-source",
   "name": "R",
   "pygments_lexer": "r",
   "version": "4.3.3"
  }
 },
 "nbformat": 4,
 "nbformat_minor": 5
}
