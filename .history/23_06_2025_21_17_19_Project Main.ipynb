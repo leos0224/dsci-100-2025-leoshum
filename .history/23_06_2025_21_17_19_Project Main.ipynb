{
 "cells": [
  {
   "cell_type": "markdown",
   "id": "50efa22f-5ae5-4121-9056-ff741cfce38c",
   "metadata": {},
   "source": [
    "Title:<br> \n",
    "Predicting Total Play Length from Player and Session Characteristics using Regression"
   ]
  },
  {
   "cell_type": "markdown",
   "id": "4a1fbcae-6df5-4e98-86ff-db5b96975e68",
   "metadata": {},
   "source": [
    "Introduction:<br>\n",
    "Ever wonder what kind of data could be gathered from playing video games? This was done by Frank Wood from UBC, who led a research group with the department of computer science to gather data about how video games are played. With this, they had set up a Minecraft server to record player actions as data, of which could be used in a variety of different scenarios by individuals from all sorts of professions and industries. In particular, some individuals in the gaming industry could make use of this particular type of data. Especially if they want to improve and optimize playing time on their games, one such question they may ask is such that:<br>\n",
    "\n",
    "Can we predict a player's total play time based off of their demographic and individual session characteristics? <br>\n",
    "\n",
    "To answer this, we must first take a look at the datasets themselves. There are two datasets that we have analyzed for this project, \"players.csv\" and \"sessions.csv\". In the players dataset, there are a total of 196 unique observations, while the sessions dataset has 1535 observations recorded. The reason for this discrepancyis that each unique player can have multiple different sessions, which are recorded in the sessions dataset. <br>\n",
    "\n",
    "The players dataset has 7 different variables:<br>\n",
    "- experience (their level of proficiency at Minecraft)\n",
    "- subscribe (whether they are subscribed to the newsletter)\n",
    "- hashedEmail (their email connected to their Minecraft account)\n",
    "- played_hours (The total amount of hours they have spent on the game)\n",
    "- name (the player's name)\n",
    "- gender (the player's gender)\n",
    "- Age (how old the player is)\n",
    "<br>\n",
    "\n",
    "The sessions dataset has 5 different variables:<br>\n",
    "- hashedEmail (the same email connected to their account)\n",
    "- start_time (readable starting time)\n",
    "- end_time (readable ending time)\n",
    "- original_start_time (starting time)\n",
    "- original_end_time (ending time)\n",
    "<br>\n",
    "\n",
    "In this project, we have chosen 5 variables to predict the total amount of play time for a player. This includes:<br>\n",
    "- The total number sessions played (minutes)\n",
    "- The average length of each session (minutes)\n",
    "- Age\n",
    "- Experience\n",
    "- Subscription\n",
    "<br>\n",
    "\n",
    "As you can see, two of the variables are related to session characteristics, while the other three are related to the individual player's demographic."
   ]
  },
  {
   "cell_type": "code",
   "execution_count": null,
   "id": "5bf5c1cb-99cd-4ed9-8759-5b86ce5c0dd7",
   "metadata": {},
   "outputs": [],
   "source": [
    "library(tidyverse)\n",
    "library(tidymodels)"
   ]
  },
  {
   "cell_type": "code",
   "execution_count": null,
   "id": "79e6ee0d-32b3-4dfc-8547-2e8515021879",
   "metadata": {},
   "outputs": [],
   "source": [
    "players <- read_csv(\"data/players.csv\")\n",
    "sessions <- read_csv(\"data/sessions.csv\") |>\n",
    "    mutate(start_time = dmy_hm(start_time), end_time = dmy_hm(end_time), session_length_minutes = as.numeric(end_time - start_time)) |>\n",
    "    select(-original_start_time, -original_end_time)\n",
    "\n",
    "head(players)\n",
    "head(sessions)"
   ]
  },
  {
   "cell_type": "code",
   "execution_count": null,
   "id": "065215ca-0c5e-4a78-bf2f-032ef897cdfe",
   "metadata": {},
   "outputs": [],
   "source": [
    "sessions_summary <- sessions |>\n",
    "    group_by(hashedEmail) |>\n",
    "    summarise(sessions_num = n(), \n",
    "              average_session_length = mean(session_length_minutes), \n",
    "              total_play_length = sum(session_length_minutes))\n",
    "\n",
    "head(sessions_summary)"
   ]
  },
  {
   "cell_type": "code",
   "execution_count": null,
   "id": "136659c4-9ac2-4781-91ba-99f910bcdfc6",
   "metadata": {},
   "outputs": [],
   "source": [
    "players_sessions <- merge(players, sessions_summary, by = \"hashedEmail\") |>\n",
    "    mutate(subscribe = as.factor(subscribe), \n",
    "           experience = as.factor(experience),\n",
    "           age = Age) |>\n",
    "    select(-played_hours, -Age, -gender, -hashedEmail, -name)\n",
    "\n",
    "           \n",
    "head(players_sessions)"
   ]
  },
  {
   "cell_type": "code",
   "execution_count": null,
   "id": "96f7495a-9009-4026-9589-c994d337a75c",
   "metadata": {},
   "outputs": [],
   "source": [
    "quick_point <- players_sessions |>\n",
    "    ggplot(aes(x = sessions_num, y = total_play_length)) +\n",
    "    geom_point(alpha = 0.7) +\n",
    "    labs(\n",
    "    title = \"Figure 1. Total Playtime vs. Number of Sessions\",\n",
    "    x = \"Number of Sessions\",\n",
    "    y = \"Total Playtime (minutes)\") +\n",
    "    scale_x_log10(labels = label_comma()) +\n",
    "    scale_y_log10(labels = label_comma()) +\n",
    "    theme(text = element_text(size = 16))\n",
    "\n",
    "quick_point"
   ]
  },
  {
   "cell_type": "code",
   "execution_count": null,
   "id": "3afe2b10-08a3-4ab4-91a6-d9cfe4b849ad",
   "metadata": {},
   "outputs": [],
   "source": [
    "set.seed(0)\n",
    "data_split <- initial_split(players_sessions, prop = 0.75, strata = total_play_length)\n",
    "training <- training(data_split)\n",
    "testing  <- testing(data_split)\n",
    "\n",
    "lm_spec <- linear_reg() |>\n",
    "    set_engine(\"lm\") |>\n",
    "    set_mode(\"regression\")\n",
    "\n",
    "lm_recipe <- recipe(total_play_length ~ sessions_num + average_session_length + age + experience + subscribe, data = training)\n",
    "\n",
    "lm_fit <- workflow() |>\n",
    "    add_recipe(lm_recipe) |>\n",
    "    add_model(lm_spec) |>\n",
    "    fit(data = training)\n",
    "lm_fit"
   ]
  },
  {
   "cell_type": "code",
   "execution_count": null,
   "id": "70b4b3b3-73bd-413d-8588-a430494e610a",
   "metadata": {},
   "outputs": [],
   "source": [
    "lm_rmse <- lm_fit |>\n",
    "        predict(training) |>\n",
    "        bind_cols(training) |>\n",
    "        metrics(truth = total_play_length, estimate = .pred) |>\n",
    "        filter(.metric == \"rmse\") |>\n",
    "        select(.estimate) |>\n",
    "        pull()\n",
    "lm_rmse"
   ]
  },
  {
   "cell_type": "code",
   "execution_count": null,
   "id": "8be0d160-c827-4585-8165-785005492ce9",
   "metadata": {},
   "outputs": [],
   "source": [
    "lm_rmspe <- lm_fit |>\n",
    "        predict(testing) |>\n",
    "        bind_cols(testing) |>\n",
    "        metrics(truth = total_play_length, estimate = .pred) |>\n",
    "        filter(.metric == \"rmse\") |>\n",
    "        select(.estimate) |>\n",
    "        pull()\n",
    "lm_rmspe"
   ]
  },
  {
   "cell_type": "code",
   "execution_count": null,
   "id": "026e3043-2a57-4411-b3a4-3856c41cee63",
   "metadata": {},
   "outputs": [],
   "source": [
    "knn_spec <- nearest_neighbor(weight_func = \"rectangular\", neighbors = tune()) |>\n",
    "    set_engine(\"kknn\") |>\n",
    "    set_mode(\"regression\")\n",
    "\n",
    "knn_recipe <- recipe(total_play_length ~ sessions_num + average_session_length + age + experience + subscribe, data = training) |>\n",
    "    step_scale(all_numeric_predictors()) |> \n",
    "    step_center(all_numeric_predictors())\n",
    "\n",
    "vfold <- vfold_cv(training, v = 5, strata = total_play_length)\n",
    "\n",
    "gridvals <- tibble(neighbors = seq(1, 20))\n",
    "\n",
    "knn_multi <- workflow() |>\n",
    "    add_recipe(knn_recipe) |>\n",
    "    add_model(knn_spec) |>\n",
    "    tune_grid(vfold, grid = gridvals) |>\n",
    "    collect_metrics() |>\n",
    "    filter(.metric == \"rmse\") |>\n",
    "    filter(mean == min(mean))\n",
    "\n",
    "best_k <- knn_multi |>\n",
    "    pull(neighbors)\n",
    "best_k"
   ]
  },
  {
   "cell_type": "code",
   "execution_count": null,
   "id": "ca3aed3a-bb7f-4a81-a06b-94f7c8f3d1fa",
   "metadata": {},
   "outputs": [],
   "source": [
    "knn_spec_new <- nearest_neighbor(weight_func = \"rectangular\", neighbors = best_k) |>\n",
    "  set_engine(\"kknn\") |>\n",
    "  set_mode(\"regression\")\n",
    "\n",
    "knn_multi_fit <- workflow() |>\n",
    "  add_recipe(knn_recipe) |>\n",
    "  add_model(knn_spec_new) |>\n",
    "  fit(data = training)\n",
    "\n",
    "knn_multi_preds <- knn_multi_fit |>\n",
    "  predict(testing) |>\n",
    "  bind_cols(testing)\n",
    "\n",
    "knn_rmspe <- metrics(knn_multi_preds, truth = total_play_length, estimate = .pred) |>\n",
    "                     filter(.metric == 'rmse')\n",
    "\n",
    "knn_rmspe"
   ]
  }
 ],
 "metadata": {
  "kernelspec": {
   "display_name": "R",
   "language": "R",
   "name": "ir"
  },
  "language_info": {
   "codemirror_mode": "r",
   "file_extension": ".r",
   "mimetype": "text/x-r-source",
   "name": "R",
   "pygments_lexer": "r",
   "version": "4.3.3"
  }
 },
 "nbformat": 4,
 "nbformat_minor": 5
}
